{
 "cells": [
  {
   "cell_type": "markdown",
   "id": "463a578e",
   "metadata": {},
   "source": [
    "# Get Activity Counts"
   ]
  },
  {
   "cell_type": "code",
   "execution_count": 1,
   "id": "c5f4f3e7",
   "metadata": {},
   "outputs": [],
   "source": [
    "import pandas as pd\n",
    "import numpy as np\n",
    "import matplotlib.pyplot as plt\n",
    "import statsmodels.api as sm\n",
    "import scipy.stats as stats\n",
    "import os\n",
    "import glob\n",
    "from sklearn.metrics import r2_score\n",
    "from sklearn.linear_model import LinearRegression\n",
    "from sklearn.preprocessing import PolynomialFeatures\n",
    "from sklearn.model_selection import train_test_split"
   ]
  },
  {
   "cell_type": "code",
   "execution_count": 2,
   "id": "492418fc-490b-4f45-b946-b3b3a40943f9",
   "metadata": {},
   "outputs": [],
   "source": [
    "csv_file_paths = sorted(glob.glob('raw_data/*.csv'))  # Update the directory path as needed\n",
    "\n",
    "# Initialize an empty list to store the loaded CSV data\n",
    "dirty_data = pd.DataFrame()\n",
    "\n",
    "\n",
    "# We are splitting our data by person so the first 10 people as train and the last 4 as test\n",
    "# Iterate through each file in the directory\n",
    "for filepath in sorted(csv_file_paths):\n",
    "    # print(filepath)\n",
    "    if filepath.endswith(\".csv\"):  # Check if the file is a CSV\n",
    "        # Load the CSV file into a pandas DataFrame\n",
    "        df = pd.read_csv(filepath)\n",
    "        df = df.dropna() # drop empty lines\n",
    "        dirty_data = pd.concat([dirty_data, df])  \n",
    "                  "
   ]
  },
  {
   "cell_type": "code",
   "execution_count": 3,
   "id": "ff3ad70f-9f51-40b9-a461-ebf250a4b2c8",
   "metadata": {},
   "outputs": [
    {
     "name": "stdout",
     "output_type": "stream",
     "text": [
      "<class 'pandas.core.frame.DataFrame'>\n",
      "RangeIndex: 48909 entries, 0 to 48908\n",
      "Data columns (total 4 columns):\n",
      " #   Column                     Non-Null Count  Dtype  \n",
      "---  ------                     --------------  -----  \n",
      " 0   timestamp                  48909 non-null  object \n",
      " 1   Actiwatch activity counts  48909 non-null  float64\n",
      " 2   Actiware classification    48909 non-null  float64\n",
      " 3   Apple Watch ENMO           48909 non-null  float64\n",
      "dtypes: float64(3), object(1)\n",
      "memory usage: 1.5+ MB\n"
     ]
    }
   ],
   "source": [
    "# Reset the index\n",
    "dirty_data = dirty_data.reset_index(drop=True)\n",
    "dirty_data.info()"
   ]
  },
  {
   "cell_type": "code",
   "execution_count": 4,
   "id": "804617bd-3747-411c-9680-c67e4377c82b",
   "metadata": {},
   "outputs": [
    {
     "data": {
      "text/html": [
       "<div>\n",
       "<style scoped>\n",
       "    .dataframe tbody tr th:only-of-type {\n",
       "        vertical-align: middle;\n",
       "    }\n",
       "\n",
       "    .dataframe tbody tr th {\n",
       "        vertical-align: top;\n",
       "    }\n",
       "\n",
       "    .dataframe thead th {\n",
       "        text-align: right;\n",
       "    }\n",
       "</style>\n",
       "<table border=\"1\" class=\"dataframe\">\n",
       "  <thead>\n",
       "    <tr style=\"text-align: right;\">\n",
       "      <th></th>\n",
       "      <th>timestamp</th>\n",
       "      <th>Actiwatch activity counts</th>\n",
       "      <th>Actiware classification</th>\n",
       "      <th>Apple Watch ENMO</th>\n",
       "    </tr>\n",
       "  </thead>\n",
       "  <tbody>\n",
       "    <tr>\n",
       "      <th>0</th>\n",
       "      <td>01/01/2000 01:20:45</td>\n",
       "      <td>0.0</td>\n",
       "      <td>1.0</td>\n",
       "      <td>0.007234</td>\n",
       "    </tr>\n",
       "    <tr>\n",
       "      <th>1</th>\n",
       "      <td>01/01/2000 01:21:00</td>\n",
       "      <td>24.0</td>\n",
       "      <td>1.0</td>\n",
       "      <td>0.030109</td>\n",
       "    </tr>\n",
       "    <tr>\n",
       "      <th>2</th>\n",
       "      <td>01/01/2000 01:21:15</td>\n",
       "      <td>3.0</td>\n",
       "      <td>1.0</td>\n",
       "      <td>0.008785</td>\n",
       "    </tr>\n",
       "    <tr>\n",
       "      <th>3</th>\n",
       "      <td>01/01/2000 01:21:30</td>\n",
       "      <td>0.0</td>\n",
       "      <td>1.0</td>\n",
       "      <td>0.007893</td>\n",
       "    </tr>\n",
       "    <tr>\n",
       "      <th>4</th>\n",
       "      <td>01/01/2000 01:21:45</td>\n",
       "      <td>3.0</td>\n",
       "      <td>1.0</td>\n",
       "      <td>0.007761</td>\n",
       "    </tr>\n",
       "    <tr>\n",
       "      <th>...</th>\n",
       "      <td>...</td>\n",
       "      <td>...</td>\n",
       "      <td>...</td>\n",
       "      <td>...</td>\n",
       "    </tr>\n",
       "    <tr>\n",
       "      <th>48904</th>\n",
       "      <td>28/01/2000 08:56:30</td>\n",
       "      <td>113.0</td>\n",
       "      <td>1.0</td>\n",
       "      <td>0.071673</td>\n",
       "    </tr>\n",
       "    <tr>\n",
       "      <th>48905</th>\n",
       "      <td>28/01/2000 08:56:45</td>\n",
       "      <td>79.0</td>\n",
       "      <td>1.0</td>\n",
       "      <td>0.072491</td>\n",
       "    </tr>\n",
       "    <tr>\n",
       "      <th>48906</th>\n",
       "      <td>28/01/2000 08:57:00</td>\n",
       "      <td>88.0</td>\n",
       "      <td>1.0</td>\n",
       "      <td>0.079414</td>\n",
       "    </tr>\n",
       "    <tr>\n",
       "      <th>48907</th>\n",
       "      <td>28/01/2000 08:57:15</td>\n",
       "      <td>73.0</td>\n",
       "      <td>1.0</td>\n",
       "      <td>0.093463</td>\n",
       "    </tr>\n",
       "    <tr>\n",
       "      <th>48908</th>\n",
       "      <td>28/01/2000 08:57:30</td>\n",
       "      <td>208.0</td>\n",
       "      <td>1.0</td>\n",
       "      <td>0.161290</td>\n",
       "    </tr>\n",
       "  </tbody>\n",
       "</table>\n",
       "<p>48909 rows × 4 columns</p>\n",
       "</div>"
      ],
      "text/plain": [
       "                 timestamp  Actiwatch activity counts  \\\n",
       "0      01/01/2000 01:20:45                        0.0   \n",
       "1      01/01/2000 01:21:00                       24.0   \n",
       "2      01/01/2000 01:21:15                        3.0   \n",
       "3      01/01/2000 01:21:30                        0.0   \n",
       "4      01/01/2000 01:21:45                        3.0   \n",
       "...                    ...                        ...   \n",
       "48904  28/01/2000 08:56:30                      113.0   \n",
       "48905  28/01/2000 08:56:45                       79.0   \n",
       "48906  28/01/2000 08:57:00                       88.0   \n",
       "48907  28/01/2000 08:57:15                       73.0   \n",
       "48908  28/01/2000 08:57:30                      208.0   \n",
       "\n",
       "       Actiware classification  Apple Watch ENMO  \n",
       "0                          1.0          0.007234  \n",
       "1                          1.0          0.030109  \n",
       "2                          1.0          0.008785  \n",
       "3                          1.0          0.007893  \n",
       "4                          1.0          0.007761  \n",
       "...                        ...               ...  \n",
       "48904                      1.0          0.071673  \n",
       "48905                      1.0          0.072491  \n",
       "48906                      1.0          0.079414  \n",
       "48907                      1.0          0.093463  \n",
       "48908                      1.0          0.161290  \n",
       "\n",
       "[48909 rows x 4 columns]"
      ]
     },
     "execution_count": 4,
     "metadata": {},
     "output_type": "execute_result"
    }
   ],
   "source": [
    "dirty_data"
   ]
  },
  {
   "cell_type": "markdown",
   "id": "70f8a496-5583-4374-87f4-ef0d20c15058",
   "metadata": {},
   "source": [
    "## Visualise. Data"
   ]
  },
  {
   "cell_type": "code",
   "execution_count": 5,
   "id": "6dbea7a4-1d0a-43f4-915d-3dc30f420462",
   "metadata": {},
   "outputs": [
    {
     "data": {
      "text/plain": [
       "Text(0.5, 1.0, 'Box Plot for Outlier Detection')"
      ]
     },
     "execution_count": 5,
     "metadata": {},
     "output_type": "execute_result"
    },
    {
     "data": {
      "image/png": "[encoded data removed]",
      "text/plain": [
       "<Figure size 1440x432 with 2 Axes>"
      ]
     },
     "metadata": {
      "needs_background": "light"
     },
     "output_type": "display_data"
    }
   ],
   "source": [
    "import matplotlib.pyplot as plt\n",
    "import seaborn as sns\n",
    "\n",
    "# Create a box plot\n",
    "fig = plt.figure(figsize=[20, 6])\n",
    "ax = fig.add_subplot(1, 2, 1)\n",
    "sns.boxplot(x='Actiwatch activity counts', data=dirty_data)\n",
    "ax.set_title('Box Plot for Outlier Detection')\n",
    "\n",
    "ax = fig.add_subplot(1, 2, 2)\n",
    "sns.boxplot(x='Apple Watch ENMO', data=dirty_data)\n",
    "ax.set_title('Box Plot for Outlier Detection')\n"
   ]
  },
  {
   "cell_type": "code",
   "execution_count": 6,
   "id": "3a342003-203e-42be-b5d2-28126fb48e26",
   "metadata": {},
   "outputs": [
    {
     "data": {
      "text/plain": [
       "Text(0, 0.5, 'Frequency')"
      ]
     },
     "execution_count": 6,
     "metadata": {},
     "output_type": "execute_result"
    },
    {
     "data": {
      "image/png": "[encoded data removed]",
      "text/plain": [
       "<Figure size 1440x432 with 2 Axes>"
      ]
     },
     "metadata": {
      "needs_background": "light"
     },
     "output_type": "display_data"
    }
   ],
   "source": [
    "fig = plt.figure(figsize=[20, 6])\n",
    "ax = fig.add_subplot(1, 2, 1)\n",
    "ax.hist(dirty_data['Actiwatch activity counts'], bins=30, edgecolor='black')\n",
    "ax.set_title('Histogram for Outlier Detection')\n",
    "ax.set_xlabel('Actiwatch activity counts')\n",
    "ax.set_ylabel('Frequency')\n",
    "\n",
    "ax = fig.add_subplot(1, 2, 2)\n",
    "ax.hist(dirty_data['Apple Watch ENMO'], bins=30, edgecolor='black')\n",
    "ax.set_title('Histogram for Outlier Detection')\n",
    "ax.set_xlabel('Apple Watch ENMO')\n",
    "ax.set_ylabel('Frequency')"
   ]
  },
  {
   "cell_type": "markdown",
   "id": "9e3b5d39-60e8-4a26-ad52-9f06bb846262",
   "metadata": {},
   "source": [
    "## Data Cleaning"
   ]
  },
  {
   "cell_type": "code",
   "execution_count": 7,
   "id": "764a4d88-1d67-4d37-9015-ce546bd37981",
   "metadata": {},
   "outputs": [],
   "source": [
    "# # Calculate Q1 and Q3 for the specific column\n",
    "# Q1 = dirty_data['Actiwatch activity counts'].quantile(0.35)\n",
    "# Q3 = dirty_data['Actiwatch activity counts'].quantile(0.75)\n",
    "\n",
    "# # Calculate IQR\n",
    "# IQR = Q3 - Q1\n",
    "\n",
    "# # Define lower and upper bounds for outliers\n",
    "# lower_bound = Q1 - 1.5 * IQR\n",
    "# upper_bound = Q3 + 1.5 * IQR\n",
    "\n",
    "# # Filter outliers\n",
    "# filtered_data = dirty_data[(dirty_data['Actiwatch activity counts'] >= lower_bound) & (dirty_data['Actiwatch activity counts'] <= upper_bound)]"
   ]
  },
  {
   "cell_type": "code",
   "execution_count": 8,
   "id": "5124cf90-9f8a-4ce7-a177-6bc9a8aa20a6",
   "metadata": {},
   "outputs": [],
   "source": [
    "# Calculate Q1 and Q3 for the specific column\n",
    "Q1 = dirty_data['Apple Watch ENMO'].quantile(0.25)\n",
    "Q3 = dirty_data['Apple Watch ENMO'].quantile(0.998)\n",
    "\n",
    "# Calculate IQR\n",
    "IQR = Q3 - Q1\n",
    "\n",
    "# Define lower and upper bounds for outliers\n",
    "lower_bound = Q1 - 1.5 * IQR\n",
    "upper_bound = Q3 + 1.5 * IQR\n",
    "\n",
    "# Filter outliers\n",
    "outliers = dirty_data.index[dirty_data['Apple Watch ENMO'] > upper_bound]"
   ]
  },
  {
   "cell_type": "code",
   "execution_count": 9,
   "id": "d090f51e-2e6b-452a-98fe-d5b050c27b5b",
   "metadata": {},
   "outputs": [
    {
     "data": {
      "text/plain": [
       "7"
      ]
     },
     "execution_count": 9,
     "metadata": {},
     "output_type": "execute_result"
    }
   ],
   "source": [
    "len(outliers)"
   ]
  },
  {
   "cell_type": "code",
   "execution_count": 10,
   "id": "326a8620-f3fc-4573-9127-67e5cd95338e",
   "metadata": {},
   "outputs": [],
   "source": [
    "# outliers = sorted(set(outliers))\n",
    "dirty_data.drop(outliers, inplace=True)\n",
    "dirty_data.reset_index(drop=True, inplace=True)\n",
    "filtered_data = dirty_data"
   ]
  },
  {
   "cell_type": "code",
   "execution_count": 11,
   "id": "85b1cd7f-9a66-4ab1-aed1-88beb16b8604",
   "metadata": {},
   "outputs": [
    {
     "name": "stdout",
     "output_type": "stream",
     "text": [
      "<class 'pandas.core.frame.DataFrame'>\n",
      "RangeIndex: 48902 entries, 0 to 48901\n",
      "Data columns (total 4 columns):\n",
      " #   Column                     Non-Null Count  Dtype  \n",
      "---  ------                     --------------  -----  \n",
      " 0   timestamp                  48902 non-null  object \n",
      " 1   Actiwatch activity counts  48902 non-null  float64\n",
      " 2   Actiware classification    48902 non-null  float64\n",
      " 3   Apple Watch ENMO           48902 non-null  float64\n",
      "dtypes: float64(3), object(1)\n",
      "memory usage: 1.5+ MB\n"
     ]
    }
   ],
   "source": [
    "filtered_data.info()"
   ]
  },
  {
   "cell_type": "code",
   "execution_count": 12,
   "id": "cc06394b-2994-40d1-b4cd-cb345b43c9ae",
   "metadata": {},
   "outputs": [
    {
     "data": {
      "text/plain": [
       "Text(0, 0.5, 'Frequency')"
      ]
     },
     "execution_count": 12,
     "metadata": {},
     "output_type": "execute_result"
    },
    {
     "data": {
      "image/png": "[encoded data removed]",
      "text/plain": [
       "<Figure size 1440x432 with 2 Axes>"
      ]
     },
     "metadata": {
      "needs_background": "light"
     },
     "output_type": "display_data"
    }
   ],
   "source": [
    "# Create a box plot\n",
    "fig = plt.figure(figsize=[20, 6])\n",
    "ax = fig.add_subplot(1, 2, 1)\n",
    "plt.scatter(filtered_data['Apple Watch ENMO'], filtered_data['Actiwatch activity counts'])\n",
    "ax.set_title('Box Plot for Outlier Detection')\n",
    "\n",
    "ax = fig.add_subplot(1, 2, 2)\n",
    "ax.hist(filtered_data['Apple Watch ENMO'], bins=30, edgecolor='black')\n",
    "ax.set_title('Histogram for Outlier Detection')\n",
    "ax.set_xlabel('Apple Watch ENMO')\n",
    "ax.set_ylabel('Frequency')"
   ]
  },
  {
   "cell_type": "code",
   "execution_count": 13,
   "id": "9ca16653-3651-4abd-94ef-8f65f3d67147",
   "metadata": {},
   "outputs": [
    {
     "data": {
      "text/plain": [
       "Text(0, 0.5, 'Frequency')"
      ]
     },
     "execution_count": 13,
     "metadata": {},
     "output_type": "execute_result"
    },
    {
     "data": {
      "image/png": "[encoded data removed]",
      "text/plain": [
       "<Figure size 1440x432 with 1 Axes>"
      ]
     },
     "metadata": {
      "needs_background": "light"
     },
     "output_type": "display_data"
    }
   ],
   "source": [
    "fig = plt.figure(figsize=[20, 6])\n",
    "ax = fig.add_subplot(1, 2, 1)\n",
    "ax.hist(filtered_data['Actiwatch activity counts'], bins=30, edgecolor='black')\n",
    "ax.set_title('Histogram for Outlier Detection')\n",
    "ax.set_xlabel('Actiwatch activity counts')\n",
    "ax.set_ylabel('Frequency')"
   ]
  },
  {
   "cell_type": "code",
   "execution_count": 14,
   "id": "69231ec6-47b1-4aa8-84a6-021ee5b58022",
   "metadata": {},
   "outputs": [],
   "source": [
    "data = filtered_data"
   ]
  },
  {
   "cell_type": "code",
   "execution_count": 15,
   "id": "901ac912-47b4-4180-8104-8cda5c9537a7",
   "metadata": {},
   "outputs": [
    {
     "name": "stdout",
     "output_type": "stream",
     "text": [
      "<class 'pandas.core.frame.DataFrame'>\n",
      "RangeIndex: 48902 entries, 0 to 48901\n",
      "Data columns (total 4 columns):\n",
      " #   Column                     Non-Null Count  Dtype  \n",
      "---  ------                     --------------  -----  \n",
      " 0   timestamp                  48902 non-null  object \n",
      " 1   Actiwatch activity counts  48902 non-null  float64\n",
      " 2   Actiware classification    48902 non-null  float64\n",
      " 3   Apple Watch ENMO           48902 non-null  float64\n",
      "dtypes: float64(3), object(1)\n",
      "memory usage: 1.5+ MB\n"
     ]
    }
   ],
   "source": [
    "data.info()"
   ]
  },
  {
   "cell_type": "markdown",
   "id": "db0d7535-87bd-4d4f-b213-e1cf3bd8ae1a",
   "metadata": {},
   "source": [
    "### LInear Regression\n",
    "#### Get Apple Watch Activity counts"
   ]
  },
  {
   "cell_type": "code",
   "execution_count": 16,
   "id": "fa22edf5-9ee5-4cd5-9365-bc8d2991557f",
   "metadata": {},
   "outputs": [],
   "source": [
    "# # Split the data into training and validation sets\n",
    "# X_train = train['Apple Watch ENMO']  \n",
    "# y_train = train['Actiwatch activity counts']\n",
    "\n",
    "# X_val = val['Apple Watch ENMO']\n",
    "# y_val = val['Actiwatch activity counts']"
   ]
  },
  {
   "cell_type": "markdown",
   "id": "51257570",
   "metadata": {},
   "source": [
    "### Standardisation & Data Split"
   ]
  },
  {
   "cell_type": "code",
   "execution_count": 17,
   "id": "f5431d77",
   "metadata": {},
   "outputs": [],
   "source": [
    "# Split the data into training and validation sets\n",
    "X = data['Apple Watch ENMO'] \n",
    "y = data['Actiwatch activity counts']\n",
    "\n",
    "# # Standardise Data\n",
    "# x_mu = np.mean(X)\n",
    "# x_sigma = np.std(X)\n",
    "\n",
    "# y_mu = np.mean(y)\n",
    "# y_sigma = np.std(y)\n",
    "\n",
    "# X = (X - x_mu) / x_sigma;\n",
    "# y = (y - y_mu) / y_sigma;\n",
    "\n",
    "#Add Constant\n",
    "X = sm.add_constant(X)\n",
    "\n",
    "#Split The Data\n",
    "# X_train, X_val, y_train, y_val = train_test_split(X, y, test_size=0.3, random_state=47)\n",
    "\n",
    "#Split Data Alt\n",
    "num_samples = data.shape[0]\n",
    "training_samples = int(num_samples*0.7)\n",
    "validation_samples = int(num_samples*0.15)\n",
    "X_train = X.iloc[0:training_samples, :]\n",
    "y_train = y.iloc[0:training_samples]\n",
    "X_val = X.iloc[training_samples:(training_samples + validation_samples), :]\n",
    "y_val = y.iloc[training_samples:(training_samples + validation_samples)]\n",
    "X_test = X.iloc[(training_samples + validation_samples):, :]\n",
    "y_test = y.iloc[(training_samples + validation_samples):]"
   ]
  },
  {
   "cell_type": "code",
   "execution_count": 18,
   "id": "e7296bda-1249-4a6a-98f9-dc5efa30c377",
   "metadata": {},
   "outputs": [
    {
     "name": "stdout",
     "output_type": "stream",
     "text": [
      "       const  Apple Watch ENMO\n",
      "0        1.0          0.007234\n",
      "1        1.0          0.030109\n",
      "2        1.0          0.008785\n",
      "3        1.0          0.007893\n",
      "4        1.0          0.007761\n",
      "...      ...               ...\n",
      "34226    1.0          0.006140\n",
      "34227    1.0          0.006128\n",
      "34228    1.0          0.006074\n",
      "34229    1.0          0.006137\n",
      "34230    1.0          0.005772\n",
      "\n",
      "[34231 rows x 2 columns]\n"
     ]
    }
   ],
   "source": [
    "print(X_train)"
   ]
  },
  {
   "cell_type": "markdown",
   "id": "524e8301",
   "metadata": {},
   "source": [
    "# Simple Linear Regression"
   ]
  },
  {
   "cell_type": "code",
   "execution_count": 19,
   "id": "8c45c835",
   "metadata": {},
   "outputs": [
    {
     "data": {
      "text/plain": [
       "Text(0.5, 1.0, 'Value Disstribution Plot of Validation Data')"
      ]
     },
     "execution_count": 19,
     "metadata": {},
     "output_type": "execute_result"
    },
    {
     "data": {
      "image/png": "[encoded data removed]",
      "text/plain": [
       "<Figure size 1296x1440 with 2 Axes>"
      ]
     },
     "metadata": {
      "needs_background": "light"
     },
     "output_type": "display_data"
    }
   ],
   "source": [
    "fig = plt.figure(figsize=[18, 20])\n",
    "ax = fig.add_subplot(2, 1, 1)\n",
    "ax.boxplot(X_train['Apple Watch ENMO']);\n",
    "ax.set_xlabel('Colunms')\n",
    "ax.set_ylabel('Value')\n",
    "# ax.set_xticklabels([])\n",
    "ax.set_title('Value Disstribution Plot of Train Data')\n",
    "\n",
    "ax = fig.add_subplot(2, 1, 2)\n",
    "ax.boxplot(X_val['Apple Watch ENMO']);\n",
    "ax.set_xlabel('Colunms')\n",
    "ax.set_ylabel('Value')\n",
    "# ax.set_xticklabels([])\n",
    "ax.set_title('Value Disstribution Plot of Validation Data')"
   ]
  },
  {
   "cell_type": "markdown",
   "id": "638780ea-8e1f-4f58-a694-320fda957771",
   "metadata": {},
   "source": [
    "### SLEEP WAKE VISUALISATION"
   ]
  },
  {
   "cell_type": "code",
   "execution_count": 20,
   "id": "f5ae08b4-c157-47e2-b55c-15f5736a3656",
   "metadata": {},
   "outputs": [
    {
     "data": {
      "text/html": [
       "<div>\n",
       "<style scoped>\n",
       "    .dataframe tbody tr th:only-of-type {\n",
       "        vertical-align: middle;\n",
       "    }\n",
       "\n",
       "    .dataframe tbody tr th {\n",
       "        vertical-align: top;\n",
       "    }\n",
       "\n",
       "    .dataframe thead th {\n",
       "        text-align: right;\n",
       "    }\n",
       "</style>\n",
       "<table border=\"1\" class=\"dataframe\">\n",
       "  <thead>\n",
       "    <tr style=\"text-align: right;\">\n",
       "      <th></th>\n",
       "      <th>const</th>\n",
       "      <th>Apple Watch ENMO</th>\n",
       "    </tr>\n",
       "  </thead>\n",
       "  <tbody>\n",
       "    <tr>\n",
       "      <th>0</th>\n",
       "      <td>1.0</td>\n",
       "      <td>0.007234</td>\n",
       "    </tr>\n",
       "    <tr>\n",
       "      <th>1</th>\n",
       "      <td>1.0</td>\n",
       "      <td>0.030109</td>\n",
       "    </tr>\n",
       "    <tr>\n",
       "      <th>2</th>\n",
       "      <td>1.0</td>\n",
       "      <td>0.008785</td>\n",
       "    </tr>\n",
       "    <tr>\n",
       "      <th>3</th>\n",
       "      <td>1.0</td>\n",
       "      <td>0.007893</td>\n",
       "    </tr>\n",
       "    <tr>\n",
       "      <th>4</th>\n",
       "      <td>1.0</td>\n",
       "      <td>0.007761</td>\n",
       "    </tr>\n",
       "    <tr>\n",
       "      <th>...</th>\n",
       "      <td>...</td>\n",
       "      <td>...</td>\n",
       "    </tr>\n",
       "    <tr>\n",
       "      <th>34226</th>\n",
       "      <td>1.0</td>\n",
       "      <td>0.006140</td>\n",
       "    </tr>\n",
       "    <tr>\n",
       "      <th>34227</th>\n",
       "      <td>1.0</td>\n",
       "      <td>0.006128</td>\n",
       "    </tr>\n",
       "    <tr>\n",
       "      <th>34228</th>\n",
       "      <td>1.0</td>\n",
       "      <td>0.006074</td>\n",
       "    </tr>\n",
       "    <tr>\n",
       "      <th>34229</th>\n",
       "      <td>1.0</td>\n",
       "      <td>0.006137</td>\n",
       "    </tr>\n",
       "    <tr>\n",
       "      <th>34230</th>\n",
       "      <td>1.0</td>\n",
       "      <td>0.005772</td>\n",
       "    </tr>\n",
       "  </tbody>\n",
       "</table>\n",
       "<p>34231 rows × 2 columns</p>\n",
       "</div>"
      ],
      "text/plain": [
       "       const  Apple Watch ENMO\n",
       "0        1.0          0.007234\n",
       "1        1.0          0.030109\n",
       "2        1.0          0.008785\n",
       "3        1.0          0.007893\n",
       "4        1.0          0.007761\n",
       "...      ...               ...\n",
       "34226    1.0          0.006140\n",
       "34227    1.0          0.006128\n",
       "34228    1.0          0.006074\n",
       "34229    1.0          0.006137\n",
       "34230    1.0          0.005772\n",
       "\n",
       "[34231 rows x 2 columns]"
      ]
     },
     "execution_count": 20,
     "metadata": {},
     "output_type": "execute_result"
    }
   ],
   "source": [
    "X_train"
   ]
  },
  {
   "cell_type": "code",
   "execution_count": 21,
   "id": "87522fc0-b439-4760-ba51-dc20c1e7a80f",
   "metadata": {},
   "outputs": [
    {
     "data": {
      "image/png": "[encoded data removed]",
      "text/plain": [
       "<Figure size 432x288 with 1 Axes>"
      ]
     },
     "metadata": {
      "needs_background": "light"
     },
     "output_type": "display_data"
    }
   ],
   "source": [
    "# Sample data (replace with your actual data)\n",
    "enmo_values = np.array(X_train['Apple Watch ENMO'])  # Normalized ENMO values\n",
    "activity_counts = y_train  # Corresponding activity counts\n",
    "\n",
    "# Visualize the regression line\n",
    "plt.scatter(enmo_values, activity_counts, color='blue', label='Actual Data')\n",
    "# plt.plot(enmo_values, activity_counts, color='red', linewidth=2, label='Regression Line')\n",
    "plt.xlabel('ENMO Values')\n",
    "plt.ylabel('Activity Counts')\n",
    "plt.legend()\n",
    "plt.title('Linear Regression: ENMO to Activity Counts')\n",
    "plt.show()"
   ]
  },
  {
   "cell_type": "markdown",
   "id": "e2555f2c",
   "metadata": {},
   "source": [
    "### Model Training (SLR)"
   ]
  },
  {
   "cell_type": "code",
   "execution_count": 22,
   "id": "d1c91b4c",
   "metadata": {},
   "outputs": [
    {
     "name": "stdout",
     "output_type": "stream",
     "text": [
      "const                 -2.949751\n",
      "Apple Watch ENMO    1136.130126\n",
      "dtype: float64\n"
     ]
    }
   ],
   "source": [
    "model = sm.OLS(y_train, X_train).fit()\n",
    "print(model.params)"
   ]
  },
  {
   "cell_type": "code",
   "execution_count": 23,
   "id": "f2dae59d",
   "metadata": {},
   "outputs": [
    {
     "name": "stdout",
     "output_type": "stream",
     "text": [
      "                                OLS Regression Results                               \n",
      "=====================================================================================\n",
      "Dep. Variable:     Actiwatch activity counts   R-squared:                       0.749\n",
      "Model:                                   OLS   Adj. R-squared:                  0.749\n",
      "Method:                        Least Squares   F-statistic:                 1.021e+05\n",
      "Date:                       Thu, 26 Oct 2023   Prob (F-statistic):               0.00\n",
      "Time:                               19:34:06   Log-Likelihood:            -1.2320e+05\n",
      "No. Observations:                      34231   AIC:                         2.464e+05\n",
      "Df Residuals:                          34229   BIC:                         2.464e+05\n",
      "Df Model:                                  1                                         \n",
      "Covariance Type:                   nonrobust                                         \n",
      "====================================================================================\n",
      "                       coef    std err          t      P>|t|      [0.025      0.975]\n",
      "------------------------------------------------------------------------------------\n",
      "const               -2.9498      0.051    -57.729      0.000      -3.050      -2.850\n",
      "Apple Watch ENMO  1136.1301      3.556    319.521      0.000    1129.161    1143.099\n",
      "==============================================================================\n",
      "Omnibus:                    35583.876   Durbin-Watson:                   2.154\n",
      "Prob(Omnibus):                  0.000   Jarque-Bera (JB):         62536562.352\n",
      "Skew:                           4.091   Prob(JB):                         0.00\n",
      "Kurtosis:                     212.233   Cond. No.                         74.4\n",
      "==============================================================================\n",
      "\n",
      "Notes:\n",
      "[1] Standard Errors assume that the covariance matrix of the errors is correctly specified.\n"
     ]
    }
   ],
   "source": [
    "print(model.summary())"
   ]
  },
  {
   "cell_type": "markdown",
   "id": "cdcc1dc3",
   "metadata": {},
   "source": [
    "### Model Evaluation (SLR)"
   ]
  },
  {
   "cell_type": "code",
   "execution_count": 24,
   "id": "70f690ef",
   "metadata": {},
   "outputs": [
    {
     "data": {
      "image/png": "[encoded data removed]",
      "text/plain": [
       "<Figure size 1440x576 with 2 Axes>"
      ]
     },
     "metadata": {
      "needs_background": "light"
     },
     "output_type": "display_data"
    },
    {
     "data": {
      "image/png": "[encoded data removed]",
      "text/plain": [
       "<Figure size 1440x576 with 2 Axes>"
      ]
     },
     "metadata": {
      "needs_background": "light"
     },
     "output_type": "display_data"
    }
   ],
   "source": [
    "def plot_diagnoistics(trained_model, X_train, Y_train, X_test, Y_test):\n",
    "\n",
    "    fig = plt.figure(figsize=[20, 8])\n",
    "    ax = fig.add_subplot(1, 2, 1)\n",
    "    f = sm.qqplot(trained_model.resid, ax=ax)\n",
    "    ax = fig.add_subplot(1, 2, 2)\n",
    "    ax.hist(trained_model.resid, 50)\n",
    "\n",
    "    Y_train_pred = trained_model.predict(X_train)\n",
    "    Y_test_pred = trained_model.predict(X_test)\n",
    "    rmse_train = np.sqrt(np.mean((Y_train_pred - Y_train)**2))\n",
    "    rmse_test = np.sqrt(np.mean((Y_test_pred - Y_test)**2))\n",
    "\n",
    "    fig = plt.figure(figsize=[20, 8])\n",
    "    ax = fig.add_subplot(2, 1, 1)\n",
    "    ax.plot(np.arange(len(Y_train_pred)), Y_train, label='Actual')\n",
    "    ax.plot(np.arange(len(Y_train_pred)), Y_train_pred, label='Predicted')\n",
    "    ax.set_title('RMSE Train: {:.2f}'.format(rmse_train))\n",
    "    ax.legend()\n",
    "    \n",
    "    ax = fig.add_subplot(2, 1, 2)\n",
    "    ax.plot(np.arange(len(Y_test_pred)), Y_test, label='Actual')\n",
    "    ax.plot(np.arange(len(Y_test_pred)), Y_test_pred, label='Predicted')\n",
    "    ax.set_title('RMSE Train: {:.2f}'.format(rmse_test))\n",
    "    ax.legend()\n",
    "    \n",
    "plot_diagnoistics(model, X_train, y_train, X_test, y_test)"
   ]
  },
  {
   "cell_type": "code",
   "execution_count": 25,
   "id": "c4542e03",
   "metadata": {},
   "outputs": [],
   "source": [
    "# rmse_model_train = np.sqrt(np.mean(((pred_train*y_sigma + y_mu) - (y_train * y_sigma + y_mu))**2))\n",
    "# rmse_model_val = np.sqrt(np.mean(((pred_val*y_sigma + y_mu) - (y_val * y_sigma + y_mu))**2))\n",
    "\n",
    "# print('Model 1, Training Data RMSE: %f\\nModel 1, Testing Data RMSE: %f' % (rmse_model_train, rmse_model_val))"
   ]
  },
  {
   "cell_type": "markdown",
   "id": "5572a699",
   "metadata": {},
   "source": [
    "### R2 Score"
   ]
  },
  {
   "cell_type": "code",
   "execution_count": 26,
   "id": "a5786221-5014-42a6-86ca-ce336717acfa",
   "metadata": {},
   "outputs": [
    {
     "name": "stdout",
     "output_type": "stream",
     "text": [
      "Linear Model\n",
      "Training Data R2 Score: 0.748912\n",
      "Testing Data R2 Score: 0.747239\n"
     ]
    }
   ],
   "source": [
    "r2_train = r2_score(y_train, model.predict(X_train))\n",
    "r2_test = r2_score(y_test, model.predict(X_test))\n",
    "\n",
    "print('Linear Model\\nTraining Data R2 Score: %f\\nTesting Data R2 Score: %f' % (r2_train, r2_test))"
   ]
  },
  {
   "cell_type": "markdown",
   "id": "bd9a80d7-201c-478a-898e-213fdf67a1be",
   "metadata": {},
   "source": [
    "### Try Polynomial"
   ]
  },
  {
   "cell_type": "code",
   "execution_count": 27,
   "id": "cf7353ae-fbcb-40f9-b506-94b7920e9a46",
   "metadata": {},
   "outputs": [
    {
     "name": "stdout",
     "output_type": "stream",
     "text": [
      "(48902, 28)\n",
      "(34231, 28)\n",
      "(7335, 28)\n",
      "(7336, 28)\n"
     ]
    }
   ],
   "source": [
    "poly_transform = PolynomialFeatures(6)\n",
    "X_poly = poly_transform.fit_transform(X)\n",
    "print(X_poly.shape)\n",
    "X_train_poly = X_poly[0:training_samples, :]\n",
    "X_val_poly = X_poly[training_samples:(training_samples + validation_samples), :]\n",
    "X_test_poly = X_poly[(training_samples + validation_samples):, :]\n",
    "print(X_train_poly.shape)\n",
    "print(X_val_poly.shape)\n",
    "print(X_test_poly.shape)"
   ]
  },
  {
   "cell_type": "code",
   "execution_count": 28,
   "id": "1fa4f6fd-a3c7-4489-940e-4ccf502ce1d9",
   "metadata": {},
   "outputs": [
    {
     "name": "stdout",
     "output_type": "stream",
     "text": [
      "                                OLS Regression Results                               \n",
      "=====================================================================================\n",
      "Dep. Variable:     Actiwatch activity counts   R-squared:                       0.761\n",
      "Model:                                   OLS   Adj. R-squared:                  0.761\n",
      "Method:                        Least Squares   F-statistic:                 1.560e+04\n",
      "Date:                       Thu, 26 Oct 2023   Prob (F-statistic):               0.00\n",
      "Time:                               19:34:08   Log-Likelihood:            -1.2233e+05\n",
      "No. Observations:                      34231   AIC:                         2.447e+05\n",
      "Df Residuals:                          34223   BIC:                         2.447e+05\n",
      "Df Model:                                  7                                         \n",
      "Covariance Type:                   nonrobust                                         \n",
      "==============================================================================\n",
      "                 coef    std err          t      P>|t|      [0.025      0.975]\n",
      "------------------------------------------------------------------------------\n",
      "const       5.702e+10   2.98e+11      0.191      0.848   -5.27e+11    6.41e+11\n",
      "x1          5.673e+10   2.97e+11      0.191      0.848   -5.25e+11    6.38e+11\n",
      "x2          2.559e+08   1.34e+09      0.191      0.848   -2.37e+09    2.88e+09\n",
      "x3          5.673e+10   2.97e+11      0.191      0.848   -5.25e+11    6.38e+11\n",
      "x4          2.559e+08   1.34e+09      0.191      0.848   -2.37e+09    2.88e+09\n",
      "x5          1.606e+07   8.39e+07      0.191      0.848   -1.48e+08    1.81e+08\n",
      "x6          5.673e+10   2.97e+11      0.191      0.848   -5.25e+11    6.38e+11\n",
      "x7          2.559e+08   1.34e+09      0.191      0.848   -2.37e+09    2.88e+09\n",
      "x8         -4.012e+06    2.1e+07     -0.191      0.848   -4.51e+07    3.71e+07\n",
      "x9         -1.395e+04   9.25e+04     -0.151      0.880   -1.95e+05    1.67e+05\n",
      "x10        -7.574e+10   3.96e+11     -0.191      0.848   -8.52e+11       7e+11\n",
      "x11        -2.559e+08   1.34e+09     -0.191      0.848   -2.88e+09    2.37e+09\n",
      "x12        -4.012e+06    2.1e+07     -0.191      0.848   -4.51e+07    3.71e+07\n",
      "x13        -1.091e+04   1.08e+05     -0.101      0.920   -2.23e+05    2.02e+05\n",
      "x14         2.418e+05   3.07e+05      0.787      0.431    -3.6e+05    8.44e+05\n",
      "x15        -7.574e+10   3.96e+11     -0.191      0.848   -8.52e+11       7e+11\n",
      "x16        -2.559e+08   1.34e+09     -0.191      0.848   -2.88e+09    2.37e+09\n",
      "x17        -4.012e+06    2.1e+07     -0.191      0.848   -4.51e+07    3.71e+07\n",
      "x18        -1.821e+04   7.03e+04     -0.259      0.796   -1.56e+05     1.2e+05\n",
      "x19         2.009e+05   9.57e+04      2.099      0.036    1.33e+04    3.89e+05\n",
      "x20        -5.833e+05   9.42e+04     -6.195      0.000   -7.68e+05   -3.99e+05\n",
      "x21        -7.574e+10   3.96e+11     -0.191      0.848   -8.52e+11       7e+11\n",
      "x22        -2.559e+08   1.34e+09     -0.191      0.848   -2.88e+09    2.37e+09\n",
      "x23        -4.012e+06    2.1e+07     -0.191      0.848   -4.51e+07    3.71e+07\n",
      "x24         -8.35e+04   2.71e+05     -0.308      0.758   -6.15e+05    4.48e+05\n",
      "x25          1.07e+05   3.99e+05      0.268      0.789   -6.75e+05    8.89e+05\n",
      "x26        -5.934e+05   9.44e+04     -6.288      0.000   -7.78e+05   -4.08e+05\n",
      "x27         9.909e+05   1.58e+05      6.266      0.000    6.81e+05     1.3e+06\n",
      "==============================================================================\n",
      "Omnibus:                    37230.585   Durbin-Watson:                   2.220\n",
      "Prob(Omnibus):                  0.000   Jarque-Bera (JB):         49325976.964\n",
      "Skew:                           4.560   Prob(JB):                         0.00\n",
      "Kurtosis:                     188.742   Cond. No.                     3.05e+16\n",
      "==============================================================================\n",
      "\n",
      "Notes:\n",
      "[1] Standard Errors assume that the covariance matrix of the errors is correctly specified.\n",
      "[2] The smallest eigenvalue is 2.58e-28. This might indicate that there are\n",
      "strong multicollinearity problems or that the design matrix is singular.\n"
     ]
    }
   ],
   "source": [
    "model_poly = sm.OLS(y_train, X_train_poly)\n",
    "model_poly = model_poly.fit()\n",
    "print(model_poly.summary())"
   ]
  },
  {
   "cell_type": "code",
   "execution_count": 29,
   "id": "e539ebdb-f2f6-495e-a6c0-c24f7afd44f1",
   "metadata": {},
   "outputs": [
    {
     "data": {
      "image/png": "[encoded data removed]",
      "text/plain": [
       "<Figure size 1440x576 with 2 Axes>"
      ]
     },
     "metadata": {
      "needs_background": "light"
     },
     "output_type": "display_data"
    },
    {
     "data": {
      "image/png": "[encoded data removed]",
      "text/plain": [
       "<Figure size 1440x576 with 2 Axes>"
      ]
     },
     "metadata": {
      "needs_background": "light"
     },
     "output_type": "display_data"
    }
   ],
   "source": [
    "plot_diagnoistics(model_poly, X_train_poly, y_train, X_test_poly, y_test)"
   ]
  },
  {
   "cell_type": "code",
   "execution_count": 30,
   "id": "f79f46d9-3006-4e8d-b357-8d23ebf86908",
   "metadata": {},
   "outputs": [
    {
     "name": "stdout",
     "output_type": "stream",
     "text": [
      "Poly Model\n",
      "Training Data R2 Score: 0.761362\n",
      "Testing Data R2 Score: 0.755359\n"
     ]
    }
   ],
   "source": [
    "r2_poly_train = r2_score(y_train, model_poly.predict(X_train_poly))\n",
    "r2_poly_test = r2_score(y_test, model_poly.predict(X_test_poly))\n",
    "\n",
    "print('Poly Model\\nTraining Data R2 Score: %f\\nTesting Data R2 Score: %f' % (r2_poly_train, r2_poly_test))"
   ]
  },
  {
   "cell_type": "code",
   "execution_count": 31,
   "id": "2f5431d7-cd18-4132-a5fa-e42e3ff094af",
   "metadata": {},
   "outputs": [
    {
     "name": "stdout",
     "output_type": "stream",
     "text": [
      "Number of negative values in the list: 0\n",
      "48902\n"
     ]
    }
   ],
   "source": [
    "Predicted_Apple_Activity_Count = model_poly.predict(X_poly)\n",
    "#Round all the numbers\n",
    "Predicted_Apple_Activity_Count = list(map(round, Predicted_Apple_Activity_Count))\n",
    "\n",
    "# Set all negative values to 0 using list comprehension\n",
    "Predicted_Apple_Activity_Count = [num if num >= 0 else 0 for num in Predicted_Apple_Activity_Count]\n",
    "\n",
    "# Count the number of negative values using list comprehension\n",
    "count_negative = len([num for num in Predicted_Apple_Activity_Count if num < 0])\n",
    "\n",
    "print(\"Number of negative values in the list:\", count_negative)\n",
    "print(len(Predicted_Apple_Activity_Count))\n"
   ]
  },
  {
   "cell_type": "markdown",
   "id": "6c712d00-a80d-4235-906c-74d845dd095f",
   "metadata": {},
   "source": [
    "### Set Everything Before and after the first 5 minutes of slepp to wake."
   ]
  },
  {
   "cell_type": "markdown",
   "id": "1a45037c-0786-4dcd-b2e3-d1f16ada3239",
   "metadata": {},
   "source": [
    "# Sleep Wake Classification"
   ]
  },
  {
   "cell_type": "code",
   "execution_count": 32,
   "id": "2690434a-8dd0-42a5-8978-c2f44dad3cfd",
   "metadata": {},
   "outputs": [],
   "source": [
    "new_data = data"
   ]
  },
  {
   "cell_type": "code",
   "execution_count": 33,
   "id": "74a6a5fc-5258-4fd4-98b3-d54206a3a2a2",
   "metadata": {},
   "outputs": [
    {
     "data": {
      "text/html": [
       "<div>\n",
       "<style scoped>\n",
       "    .dataframe tbody tr th:only-of-type {\n",
       "        vertical-align: middle;\n",
       "    }\n",
       "\n",
       "    .dataframe tbody tr th {\n",
       "        vertical-align: top;\n",
       "    }\n",
       "\n",
       "    .dataframe thead th {\n",
       "        text-align: right;\n",
       "    }\n",
       "</style>\n",
       "<table border=\"1\" class=\"dataframe\">\n",
       "  <thead>\n",
       "    <tr style=\"text-align: right;\">\n",
       "      <th></th>\n",
       "      <th>timestamp</th>\n",
       "      <th>Actiwatch activity counts</th>\n",
       "      <th>Actiware classification</th>\n",
       "      <th>Apple Watch ENMO</th>\n",
       "      <th>Apple active counts</th>\n",
       "    </tr>\n",
       "  </thead>\n",
       "  <tbody>\n",
       "    <tr>\n",
       "      <th>0</th>\n",
       "      <td>01/01/2000 01:20:45</td>\n",
       "      <td>0.0</td>\n",
       "      <td>1.0</td>\n",
       "      <td>0.007234</td>\n",
       "      <td>4</td>\n",
       "    </tr>\n",
       "    <tr>\n",
       "      <th>1</th>\n",
       "      <td>01/01/2000 01:21:00</td>\n",
       "      <td>24.0</td>\n",
       "      <td>1.0</td>\n",
       "      <td>0.030109</td>\n",
       "      <td>32</td>\n",
       "    </tr>\n",
       "    <tr>\n",
       "      <th>2</th>\n",
       "      <td>01/01/2000 01:21:15</td>\n",
       "      <td>3.0</td>\n",
       "      <td>1.0</td>\n",
       "      <td>0.008785</td>\n",
       "      <td>6</td>\n",
       "    </tr>\n",
       "    <tr>\n",
       "      <th>3</th>\n",
       "      <td>01/01/2000 01:21:30</td>\n",
       "      <td>0.0</td>\n",
       "      <td>1.0</td>\n",
       "      <td>0.007893</td>\n",
       "      <td>5</td>\n",
       "    </tr>\n",
       "    <tr>\n",
       "      <th>4</th>\n",
       "      <td>01/01/2000 01:21:45</td>\n",
       "      <td>3.0</td>\n",
       "      <td>1.0</td>\n",
       "      <td>0.007761</td>\n",
       "      <td>5</td>\n",
       "    </tr>\n",
       "    <tr>\n",
       "      <th>5</th>\n",
       "      <td>01/01/2000 01:22:00</td>\n",
       "      <td>0.0</td>\n",
       "      <td>1.0</td>\n",
       "      <td>0.006469</td>\n",
       "      <td>4</td>\n",
       "    </tr>\n",
       "    <tr>\n",
       "      <th>6</th>\n",
       "      <td>01/01/2000 01:22:15</td>\n",
       "      <td>0.0</td>\n",
       "      <td>1.0</td>\n",
       "      <td>0.005791</td>\n",
       "      <td>3</td>\n",
       "    </tr>\n",
       "    <tr>\n",
       "      <th>7</th>\n",
       "      <td>01/01/2000 01:22:30</td>\n",
       "      <td>0.0</td>\n",
       "      <td>1.0</td>\n",
       "      <td>0.017378</td>\n",
       "      <td>16</td>\n",
       "    </tr>\n",
       "    <tr>\n",
       "      <th>8</th>\n",
       "      <td>01/01/2000 01:22:45</td>\n",
       "      <td>182.0</td>\n",
       "      <td>1.0</td>\n",
       "      <td>0.159258</td>\n",
       "      <td>188</td>\n",
       "    </tr>\n",
       "    <tr>\n",
       "      <th>9</th>\n",
       "      <td>01/01/2000 01:23:00</td>\n",
       "      <td>164.0</td>\n",
       "      <td>1.0</td>\n",
       "      <td>0.088535</td>\n",
       "      <td>111</td>\n",
       "    </tr>\n",
       "    <tr>\n",
       "      <th>10</th>\n",
       "      <td>01/01/2000 01:23:15</td>\n",
       "      <td>12.0</td>\n",
       "      <td>1.0</td>\n",
       "      <td>0.014816</td>\n",
       "      <td>13</td>\n",
       "    </tr>\n",
       "    <tr>\n",
       "      <th>11</th>\n",
       "      <td>01/01/2000 01:23:30</td>\n",
       "      <td>0.0</td>\n",
       "      <td>1.0</td>\n",
       "      <td>0.006586</td>\n",
       "      <td>4</td>\n",
       "    </tr>\n",
       "    <tr>\n",
       "      <th>12</th>\n",
       "      <td>01/01/2000 01:23:45</td>\n",
       "      <td>0.0</td>\n",
       "      <td>1.0</td>\n",
       "      <td>0.006270</td>\n",
       "      <td>3</td>\n",
       "    </tr>\n",
       "    <tr>\n",
       "      <th>13</th>\n",
       "      <td>01/01/2000 01:24:00</td>\n",
       "      <td>0.0</td>\n",
       "      <td>1.0</td>\n",
       "      <td>0.006943</td>\n",
       "      <td>4</td>\n",
       "    </tr>\n",
       "    <tr>\n",
       "      <th>14</th>\n",
       "      <td>01/01/2000 01:24:15</td>\n",
       "      <td>4.0</td>\n",
       "      <td>0.0</td>\n",
       "      <td>0.012221</td>\n",
       "      <td>10</td>\n",
       "    </tr>\n",
       "  </tbody>\n",
       "</table>\n",
       "</div>"
      ],
      "text/plain": [
       "              timestamp  Actiwatch activity counts  Actiware classification  \\\n",
       "0   01/01/2000 01:20:45                        0.0                      1.0   \n",
       "1   01/01/2000 01:21:00                       24.0                      1.0   \n",
       "2   01/01/2000 01:21:15                        3.0                      1.0   \n",
       "3   01/01/2000 01:21:30                        0.0                      1.0   \n",
       "4   01/01/2000 01:21:45                        3.0                      1.0   \n",
       "5   01/01/2000 01:22:00                        0.0                      1.0   \n",
       "6   01/01/2000 01:22:15                        0.0                      1.0   \n",
       "7   01/01/2000 01:22:30                        0.0                      1.0   \n",
       "8   01/01/2000 01:22:45                      182.0                      1.0   \n",
       "9   01/01/2000 01:23:00                      164.0                      1.0   \n",
       "10  01/01/2000 01:23:15                       12.0                      1.0   \n",
       "11  01/01/2000 01:23:30                        0.0                      1.0   \n",
       "12  01/01/2000 01:23:45                        0.0                      1.0   \n",
       "13  01/01/2000 01:24:00                        0.0                      1.0   \n",
       "14  01/01/2000 01:24:15                        4.0                      0.0   \n",
       "\n",
       "    Apple Watch ENMO  Apple active counts  \n",
       "0           0.007234                    4  \n",
       "1           0.030109                   32  \n",
       "2           0.008785                    6  \n",
       "3           0.007893                    5  \n",
       "4           0.007761                    5  \n",
       "5           0.006469                    4  \n",
       "6           0.005791                    3  \n",
       "7           0.017378                   16  \n",
       "8           0.159258                  188  \n",
       "9           0.088535                  111  \n",
       "10          0.014816                   13  \n",
       "11          0.006586                    4  \n",
       "12          0.006270                    3  \n",
       "13          0.006943                    4  \n",
       "14          0.012221                   10  "
      ]
     },
     "execution_count": 33,
     "metadata": {},
     "output_type": "execute_result"
    }
   ],
   "source": [
    "new_data['Apple active counts'] = Predicted_Apple_Activity_Count\n",
    "new_data.head(15)"
   ]
  },
  {
   "cell_type": "code",
   "execution_count": 34,
   "id": "9cb9e6bf-5c2f-4417-a6d2-707d777250e9",
   "metadata": {},
   "outputs": [
    {
     "data": {
      "text/plain": [
       "(48902, 5)"
      ]
     },
     "execution_count": 34,
     "metadata": {},
     "output_type": "execute_result"
    }
   ],
   "source": [
    "new_data.shape"
   ]
  },
  {
   "cell_type": "code",
   "execution_count": 35,
   "id": "9b582cca-7913-4eca-a40c-152a776a285b",
   "metadata": {},
   "outputs": [
    {
     "data": {
      "text/html": [
       "<div>\n",
       "<style scoped>\n",
       "    .dataframe tbody tr th:only-of-type {\n",
       "        vertical-align: middle;\n",
       "    }\n",
       "\n",
       "    .dataframe tbody tr th {\n",
       "        vertical-align: top;\n",
       "    }\n",
       "\n",
       "    .dataframe thead th {\n",
       "        text-align: right;\n",
       "    }\n",
       "</style>\n",
       "<table border=\"1\" class=\"dataframe\">\n",
       "  <thead>\n",
       "    <tr style=\"text-align: right;\">\n",
       "      <th></th>\n",
       "      <th>timestamp</th>\n",
       "      <th>Actiwatch activity counts</th>\n",
       "      <th>Actiware classification</th>\n",
       "      <th>Apple Watch ENMO</th>\n",
       "      <th>Apple active counts</th>\n",
       "    </tr>\n",
       "  </thead>\n",
       "  <tbody>\n",
       "    <tr>\n",
       "      <th>0</th>\n",
       "      <td>01/01/2000 01:20:45</td>\n",
       "      <td>0.0</td>\n",
       "      <td>1.0</td>\n",
       "      <td>0.007234</td>\n",
       "      <td>4</td>\n",
       "    </tr>\n",
       "    <tr>\n",
       "      <th>1</th>\n",
       "      <td>01/01/2000 01:21:00</td>\n",
       "      <td>24.0</td>\n",
       "      <td>1.0</td>\n",
       "      <td>0.030109</td>\n",
       "      <td>32</td>\n",
       "    </tr>\n",
       "    <tr>\n",
       "      <th>2</th>\n",
       "      <td>01/01/2000 01:21:15</td>\n",
       "      <td>3.0</td>\n",
       "      <td>1.0</td>\n",
       "      <td>0.008785</td>\n",
       "      <td>6</td>\n",
       "    </tr>\n",
       "    <tr>\n",
       "      <th>3</th>\n",
       "      <td>01/01/2000 01:21:30</td>\n",
       "      <td>0.0</td>\n",
       "      <td>1.0</td>\n",
       "      <td>0.007893</td>\n",
       "      <td>5</td>\n",
       "    </tr>\n",
       "    <tr>\n",
       "      <th>4</th>\n",
       "      <td>01/01/2000 01:21:45</td>\n",
       "      <td>3.0</td>\n",
       "      <td>1.0</td>\n",
       "      <td>0.007761</td>\n",
       "      <td>5</td>\n",
       "    </tr>\n",
       "    <tr>\n",
       "      <th>...</th>\n",
       "      <td>...</td>\n",
       "      <td>...</td>\n",
       "      <td>...</td>\n",
       "      <td>...</td>\n",
       "      <td>...</td>\n",
       "    </tr>\n",
       "    <tr>\n",
       "      <th>48897</th>\n",
       "      <td>28/01/2000 08:56:30</td>\n",
       "      <td>113.0</td>\n",
       "      <td>1.0</td>\n",
       "      <td>0.071673</td>\n",
       "      <td>88</td>\n",
       "    </tr>\n",
       "    <tr>\n",
       "      <th>48898</th>\n",
       "      <td>28/01/2000 08:56:45</td>\n",
       "      <td>79.0</td>\n",
       "      <td>1.0</td>\n",
       "      <td>0.072491</td>\n",
       "      <td>90</td>\n",
       "    </tr>\n",
       "    <tr>\n",
       "      <th>48899</th>\n",
       "      <td>28/01/2000 08:57:00</td>\n",
       "      <td>88.0</td>\n",
       "      <td>1.0</td>\n",
       "      <td>0.079414</td>\n",
       "      <td>99</td>\n",
       "    </tr>\n",
       "    <tr>\n",
       "      <th>48900</th>\n",
       "      <td>28/01/2000 08:57:15</td>\n",
       "      <td>73.0</td>\n",
       "      <td>1.0</td>\n",
       "      <td>0.093463</td>\n",
       "      <td>117</td>\n",
       "    </tr>\n",
       "    <tr>\n",
       "      <th>48901</th>\n",
       "      <td>28/01/2000 08:57:30</td>\n",
       "      <td>208.0</td>\n",
       "      <td>1.0</td>\n",
       "      <td>0.161290</td>\n",
       "      <td>190</td>\n",
       "    </tr>\n",
       "  </tbody>\n",
       "</table>\n",
       "<p>48902 rows × 5 columns</p>\n",
       "</div>"
      ],
      "text/plain": [
       "                 timestamp  Actiwatch activity counts  \\\n",
       "0      01/01/2000 01:20:45                        0.0   \n",
       "1      01/01/2000 01:21:00                       24.0   \n",
       "2      01/01/2000 01:21:15                        3.0   \n",
       "3      01/01/2000 01:21:30                        0.0   \n",
       "4      01/01/2000 01:21:45                        3.0   \n",
       "...                    ...                        ...   \n",
       "48897  28/01/2000 08:56:30                      113.0   \n",
       "48898  28/01/2000 08:56:45                       79.0   \n",
       "48899  28/01/2000 08:57:00                       88.0   \n",
       "48900  28/01/2000 08:57:15                       73.0   \n",
       "48901  28/01/2000 08:57:30                      208.0   \n",
       "\n",
       "       Actiware classification  Apple Watch ENMO  Apple active counts  \n",
       "0                          1.0          0.007234                    4  \n",
       "1                          1.0          0.030109                   32  \n",
       "2                          1.0          0.008785                    6  \n",
       "3                          1.0          0.007893                    5  \n",
       "4                          1.0          0.007761                    5  \n",
       "...                        ...               ...                  ...  \n",
       "48897                      1.0          0.071673                   88  \n",
       "48898                      1.0          0.072491                   90  \n",
       "48899                      1.0          0.079414                   99  \n",
       "48900                      1.0          0.093463                  117  \n",
       "48901                      1.0          0.161290                  190  \n",
       "\n",
       "[48902 rows x 5 columns]"
      ]
     },
     "execution_count": 35,
     "metadata": {},
     "output_type": "execute_result"
    }
   ],
   "source": [
    "new_data"
   ]
  },
  {
   "cell_type": "code",
   "execution_count": 56,
   "id": "76077ad4-fef2-4d6c-b4b0-4d4b409f1885",
   "metadata": {},
   "outputs": [
    {
     "name": "stdout",
     "output_type": "stream",
     "text": [
      "26.839999999999996\n",
      "[1, 1, 1, 1, 1, 1, 1, 180, 161, 5, 4, 3, 3, 2, 1, 1]\n"
     ]
    }
   ],
   "source": [
    "def totalCounts(ae):\n",
    "    total = 0\n",
    "\n",
    "    # Calculate the summation from i = -8 to i = -5\n",
    "    for i in range(-8, -4):\n",
    "        total += 0.04 * ae[i]\n",
    "\n",
    "    # Calculate the summation from i = -4 to i = -1\n",
    "    for i in range(-4, 0):\n",
    "        total += 0.2 * ae[i]\n",
    "\n",
    "    # Add the constant term 4*ae\n",
    "    total += 4 * ae[0]\n",
    "\n",
    "    # Calculate the summation from i = 1 to i = 4\n",
    "    for i in range(1, 5):\n",
    "        total += 0.2 * ae[i]\n",
    "\n",
    "    # Calculate the summation from i = 5 to i = 8\n",
    "    for i in range(5, 9):\n",
    "        total += 0.04 * ae[i]\n",
    "\n",
    "    return total\n",
    "\n",
    "# Sample usage\n",
    "ae = [1,1,1,1,1,1,1,180,161,5,4,3,3,2,1,1]  # sample values for illustration\n",
    "print(totalCounts(ae))\n",
    "print(ae)"
   ]
  },
  {
   "cell_type": "code",
   "execution_count": 37,
   "id": "c51de1e0-a630-4c48-9a4b-a4831cedbd61",
   "metadata": {},
   "outputs": [
    {
     "name": "stdout",
     "output_type": "stream",
     "text": [
      "<class 'pandas.core.frame.DataFrame'>\n",
      "RangeIndex: 48902 entries, 0 to 48901\n",
      "Data columns (total 5 columns):\n",
      " #   Column                     Non-Null Count  Dtype  \n",
      "---  ------                     --------------  -----  \n",
      " 0   timestamp                  48902 non-null  object \n",
      " 1   Actiwatch activity counts  48902 non-null  float64\n",
      " 2   Actiware classification    48902 non-null  float64\n",
      " 3   Apple Watch ENMO           48902 non-null  float64\n",
      " 4   Apple active counts        48902 non-null  int64  \n",
      "dtypes: float64(3), int64(1), object(1)\n",
      "memory usage: 1.9+ MB\n"
     ]
    }
   ],
   "source": [
    "new_data.info()"
   ]
  },
  {
   "cell_type": "code",
   "execution_count": 57,
   "id": "dfe6dfa6-a9f9-430d-8cb6-0da12be690c9",
   "metadata": {},
   "outputs": [
    {
     "data": {
      "text/html": [
       "<div>\n",
       "<style scoped>\n",
       "    .dataframe tbody tr th:only-of-type {\n",
       "        vertical-align: middle;\n",
       "    }\n",
       "\n",
       "    .dataframe tbody tr th {\n",
       "        vertical-align: top;\n",
       "    }\n",
       "\n",
       "    .dataframe thead th {\n",
       "        text-align: right;\n",
       "    }\n",
       "</style>\n",
       "<table border=\"1\" class=\"dataframe\">\n",
       "  <thead>\n",
       "    <tr style=\"text-align: right;\">\n",
       "      <th></th>\n",
       "      <th>timestamp</th>\n",
       "      <th>Actiwatch activity counts</th>\n",
       "      <th>Actiware classification</th>\n",
       "      <th>Apple Watch ENMO</th>\n",
       "      <th>Apple active counts</th>\n",
       "      <th>Total Counts</th>\n",
       "      <th>Apple Classification</th>\n",
       "    </tr>\n",
       "  </thead>\n",
       "  <tbody>\n",
       "    <tr>\n",
       "      <th>0</th>\n",
       "      <td>01/01/2000 01:20:45</td>\n",
       "      <td>0.0</td>\n",
       "      <td>1.0</td>\n",
       "      <td>0.007234</td>\n",
       "      <td>4</td>\n",
       "      <td>100.0</td>\n",
       "      <td>1</td>\n",
       "    </tr>\n",
       "    <tr>\n",
       "      <th>1</th>\n",
       "      <td>01/01/2000 01:21:00</td>\n",
       "      <td>24.0</td>\n",
       "      <td>1.0</td>\n",
       "      <td>0.030109</td>\n",
       "      <td>32</td>\n",
       "      <td>100.0</td>\n",
       "      <td>1</td>\n",
       "    </tr>\n",
       "    <tr>\n",
       "      <th>2</th>\n",
       "      <td>01/01/2000 01:21:15</td>\n",
       "      <td>3.0</td>\n",
       "      <td>1.0</td>\n",
       "      <td>0.008785</td>\n",
       "      <td>6</td>\n",
       "      <td>100.0</td>\n",
       "      <td>1</td>\n",
       "    </tr>\n",
       "    <tr>\n",
       "      <th>3</th>\n",
       "      <td>01/01/2000 01:21:30</td>\n",
       "      <td>0.0</td>\n",
       "      <td>1.0</td>\n",
       "      <td>0.007893</td>\n",
       "      <td>5</td>\n",
       "      <td>100.0</td>\n",
       "      <td>1</td>\n",
       "    </tr>\n",
       "    <tr>\n",
       "      <th>4</th>\n",
       "      <td>01/01/2000 01:21:45</td>\n",
       "      <td>3.0</td>\n",
       "      <td>1.0</td>\n",
       "      <td>0.007761</td>\n",
       "      <td>5</td>\n",
       "      <td>100.0</td>\n",
       "      <td>1</td>\n",
       "    </tr>\n",
       "    <tr>\n",
       "      <th>...</th>\n",
       "      <td>...</td>\n",
       "      <td>...</td>\n",
       "      <td>...</td>\n",
       "      <td>...</td>\n",
       "      <td>...</td>\n",
       "      <td>...</td>\n",
       "      <td>...</td>\n",
       "    </tr>\n",
       "    <tr>\n",
       "      <th>48897</th>\n",
       "      <td>28/01/2000 08:56:30</td>\n",
       "      <td>113.0</td>\n",
       "      <td>1.0</td>\n",
       "      <td>0.071673</td>\n",
       "      <td>88</td>\n",
       "      <td>100.0</td>\n",
       "      <td>1</td>\n",
       "    </tr>\n",
       "    <tr>\n",
       "      <th>48898</th>\n",
       "      <td>28/01/2000 08:56:45</td>\n",
       "      <td>79.0</td>\n",
       "      <td>1.0</td>\n",
       "      <td>0.072491</td>\n",
       "      <td>90</td>\n",
       "      <td>100.0</td>\n",
       "      <td>1</td>\n",
       "    </tr>\n",
       "    <tr>\n",
       "      <th>48899</th>\n",
       "      <td>28/01/2000 08:57:00</td>\n",
       "      <td>88.0</td>\n",
       "      <td>1.0</td>\n",
       "      <td>0.079414</td>\n",
       "      <td>99</td>\n",
       "      <td>100.0</td>\n",
       "      <td>1</td>\n",
       "    </tr>\n",
       "    <tr>\n",
       "      <th>48900</th>\n",
       "      <td>28/01/2000 08:57:15</td>\n",
       "      <td>73.0</td>\n",
       "      <td>1.0</td>\n",
       "      <td>0.093463</td>\n",
       "      <td>117</td>\n",
       "      <td>100.0</td>\n",
       "      <td>1</td>\n",
       "    </tr>\n",
       "    <tr>\n",
       "      <th>48901</th>\n",
       "      <td>28/01/2000 08:57:30</td>\n",
       "      <td>208.0</td>\n",
       "      <td>1.0</td>\n",
       "      <td>0.161290</td>\n",
       "      <td>190</td>\n",
       "      <td>100.0</td>\n",
       "      <td>1</td>\n",
       "    </tr>\n",
       "  </tbody>\n",
       "</table>\n",
       "<p>48902 rows × 7 columns</p>\n",
       "</div>"
      ],
      "text/plain": [
       "                 timestamp  Actiwatch activity counts  \\\n",
       "0      01/01/2000 01:20:45                        0.0   \n",
       "1      01/01/2000 01:21:00                       24.0   \n",
       "2      01/01/2000 01:21:15                        3.0   \n",
       "3      01/01/2000 01:21:30                        0.0   \n",
       "4      01/01/2000 01:21:45                        3.0   \n",
       "...                    ...                        ...   \n",
       "48897  28/01/2000 08:56:30                      113.0   \n",
       "48898  28/01/2000 08:56:45                       79.0   \n",
       "48899  28/01/2000 08:57:00                       88.0   \n",
       "48900  28/01/2000 08:57:15                       73.0   \n",
       "48901  28/01/2000 08:57:30                      208.0   \n",
       "\n",
       "       Actiware classification  Apple Watch ENMO  Apple active counts  \\\n",
       "0                          1.0          0.007234                    4   \n",
       "1                          1.0          0.030109                   32   \n",
       "2                          1.0          0.008785                    6   \n",
       "3                          1.0          0.007893                    5   \n",
       "4                          1.0          0.007761                    5   \n",
       "...                        ...               ...                  ...   \n",
       "48897                      1.0          0.071673                   88   \n",
       "48898                      1.0          0.072491                   90   \n",
       "48899                      1.0          0.079414                   99   \n",
       "48900                      1.0          0.093463                  117   \n",
       "48901                      1.0          0.161290                  190   \n",
       "\n",
       "       Total Counts  Apple Classification  \n",
       "0             100.0                     1  \n",
       "1             100.0                     1  \n",
       "2             100.0                     1  \n",
       "3             100.0                     1  \n",
       "4             100.0                     1  \n",
       "...             ...                   ...  \n",
       "48897         100.0                     1  \n",
       "48898         100.0                     1  \n",
       "48899         100.0                     1  \n",
       "48900         100.0                     1  \n",
       "48901         100.0                     1  \n",
       "\n",
       "[48902 rows x 7 columns]"
      ]
     },
     "execution_count": 57,
     "metadata": {},
     "output_type": "execute_result"
    }
   ],
   "source": [
    "def calculate_total_counts(df):\n",
    "    for index, value in enumerate(df['Actiwatch activity counts']):\n",
    "        if index >= 13 and index <= len(df['Actiwatch activity counts']) - 13:\n",
    "            ae = list(df['Actiwatch activity counts'][index - 8:index + 9])\n",
    "            df.at[index, 'Total Counts'] = totalCounts(ae)\n",
    "        else:\n",
    "            df.at[index, 'Total Counts'] = 100\n",
    "    return df\n",
    "\n",
    "calculate_total_counts(new_data)"
   ]
  },
  {
   "cell_type": "code",
   "execution_count": 58,
   "id": "f348f753-4179-451e-b0ea-17076b35b747",
   "metadata": {},
   "outputs": [
    {
     "data": {
      "text/plain": [
       "0.0    45023\n",
       "1.0     3879\n",
       "Name: Actiware classification, dtype: int64"
      ]
     },
     "execution_count": 58,
     "metadata": {},
     "output_type": "execute_result"
    }
   ],
   "source": [
    "new_data['Actiware classification'].value_counts()"
   ]
  },
  {
   "cell_type": "code",
   "execution_count": 59,
   "id": "a9a670a1-26d9-4e7e-8799-cc8be1590d3a",
   "metadata": {},
   "outputs": [
    {
     "data": {
      "text/html": [
       "<div>\n",
       "<style scoped>\n",
       "    .dataframe tbody tr th:only-of-type {\n",
       "        vertical-align: middle;\n",
       "    }\n",
       "\n",
       "    .dataframe tbody tr th {\n",
       "        vertical-align: top;\n",
       "    }\n",
       "\n",
       "    .dataframe thead th {\n",
       "        text-align: right;\n",
       "    }\n",
       "</style>\n",
       "<table border=\"1\" class=\"dataframe\">\n",
       "  <thead>\n",
       "    <tr style=\"text-align: right;\">\n",
       "      <th></th>\n",
       "      <th>timestamp</th>\n",
       "      <th>Actiwatch activity counts</th>\n",
       "      <th>Actiware classification</th>\n",
       "      <th>Apple Watch ENMO</th>\n",
       "      <th>Apple active counts</th>\n",
       "      <th>Total Counts</th>\n",
       "      <th>Apple Classification</th>\n",
       "    </tr>\n",
       "  </thead>\n",
       "  <tbody>\n",
       "    <tr>\n",
       "      <th>0</th>\n",
       "      <td>01/01/2000 01:20:45</td>\n",
       "      <td>0.0</td>\n",
       "      <td>1.0</td>\n",
       "      <td>0.007234</td>\n",
       "      <td>4</td>\n",
       "      <td>100.00</td>\n",
       "      <td>1</td>\n",
       "    </tr>\n",
       "    <tr>\n",
       "      <th>1</th>\n",
       "      <td>01/01/2000 01:21:00</td>\n",
       "      <td>24.0</td>\n",
       "      <td>1.0</td>\n",
       "      <td>0.030109</td>\n",
       "      <td>32</td>\n",
       "      <td>100.00</td>\n",
       "      <td>1</td>\n",
       "    </tr>\n",
       "    <tr>\n",
       "      <th>2</th>\n",
       "      <td>01/01/2000 01:21:15</td>\n",
       "      <td>3.0</td>\n",
       "      <td>1.0</td>\n",
       "      <td>0.008785</td>\n",
       "      <td>6</td>\n",
       "      <td>100.00</td>\n",
       "      <td>1</td>\n",
       "    </tr>\n",
       "    <tr>\n",
       "      <th>3</th>\n",
       "      <td>01/01/2000 01:21:30</td>\n",
       "      <td>0.0</td>\n",
       "      <td>1.0</td>\n",
       "      <td>0.007893</td>\n",
       "      <td>5</td>\n",
       "      <td>100.00</td>\n",
       "      <td>1</td>\n",
       "    </tr>\n",
       "    <tr>\n",
       "      <th>4</th>\n",
       "      <td>01/01/2000 01:21:45</td>\n",
       "      <td>3.0</td>\n",
       "      <td>1.0</td>\n",
       "      <td>0.007761</td>\n",
       "      <td>5</td>\n",
       "      <td>100.00</td>\n",
       "      <td>1</td>\n",
       "    </tr>\n",
       "    <tr>\n",
       "      <th>5</th>\n",
       "      <td>01/01/2000 01:22:00</td>\n",
       "      <td>0.0</td>\n",
       "      <td>1.0</td>\n",
       "      <td>0.006469</td>\n",
       "      <td>4</td>\n",
       "      <td>100.00</td>\n",
       "      <td>1</td>\n",
       "    </tr>\n",
       "    <tr>\n",
       "      <th>6</th>\n",
       "      <td>01/01/2000 01:22:15</td>\n",
       "      <td>0.0</td>\n",
       "      <td>1.0</td>\n",
       "      <td>0.005791</td>\n",
       "      <td>3</td>\n",
       "      <td>100.00</td>\n",
       "      <td>1</td>\n",
       "    </tr>\n",
       "    <tr>\n",
       "      <th>7</th>\n",
       "      <td>01/01/2000 01:22:30</td>\n",
       "      <td>0.0</td>\n",
       "      <td>1.0</td>\n",
       "      <td>0.017378</td>\n",
       "      <td>16</td>\n",
       "      <td>100.00</td>\n",
       "      <td>1</td>\n",
       "    </tr>\n",
       "    <tr>\n",
       "      <th>8</th>\n",
       "      <td>01/01/2000 01:22:45</td>\n",
       "      <td>182.0</td>\n",
       "      <td>1.0</td>\n",
       "      <td>0.159258</td>\n",
       "      <td>188</td>\n",
       "      <td>100.00</td>\n",
       "      <td>1</td>\n",
       "    </tr>\n",
       "    <tr>\n",
       "      <th>9</th>\n",
       "      <td>01/01/2000 01:23:00</td>\n",
       "      <td>164.0</td>\n",
       "      <td>1.0</td>\n",
       "      <td>0.088535</td>\n",
       "      <td>111</td>\n",
       "      <td>100.00</td>\n",
       "      <td>1</td>\n",
       "    </tr>\n",
       "    <tr>\n",
       "      <th>10</th>\n",
       "      <td>01/01/2000 01:23:15</td>\n",
       "      <td>12.0</td>\n",
       "      <td>1.0</td>\n",
       "      <td>0.014816</td>\n",
       "      <td>13</td>\n",
       "      <td>100.00</td>\n",
       "      <td>1</td>\n",
       "    </tr>\n",
       "    <tr>\n",
       "      <th>11</th>\n",
       "      <td>01/01/2000 01:23:30</td>\n",
       "      <td>0.0</td>\n",
       "      <td>1.0</td>\n",
       "      <td>0.006586</td>\n",
       "      <td>4</td>\n",
       "      <td>100.00</td>\n",
       "      <td>1</td>\n",
       "    </tr>\n",
       "    <tr>\n",
       "      <th>12</th>\n",
       "      <td>01/01/2000 01:23:45</td>\n",
       "      <td>0.0</td>\n",
       "      <td>1.0</td>\n",
       "      <td>0.006270</td>\n",
       "      <td>3</td>\n",
       "      <td>100.00</td>\n",
       "      <td>1</td>\n",
       "    </tr>\n",
       "    <tr>\n",
       "      <th>13</th>\n",
       "      <td>01/01/2000 01:24:00</td>\n",
       "      <td>0.0</td>\n",
       "      <td>1.0</td>\n",
       "      <td>0.006943</td>\n",
       "      <td>4</td>\n",
       "      <td>69.84</td>\n",
       "      <td>1</td>\n",
       "    </tr>\n",
       "    <tr>\n",
       "      <th>14</th>\n",
       "      <td>01/01/2000 01:24:15</td>\n",
       "      <td>4.0</td>\n",
       "      <td>0.0</td>\n",
       "      <td>0.012221</td>\n",
       "      <td>10</td>\n",
       "      <td>71.76</td>\n",
       "      <td>1</td>\n",
       "    </tr>\n",
       "    <tr>\n",
       "      <th>15</th>\n",
       "      <td>01/01/2000 01:24:30</td>\n",
       "      <td>0.0</td>\n",
       "      <td>0.0</td>\n",
       "      <td>0.006598</td>\n",
       "      <td>4</td>\n",
       "      <td>71.76</td>\n",
       "      <td>1</td>\n",
       "    </tr>\n",
       "    <tr>\n",
       "      <th>16</th>\n",
       "      <td>01/01/2000 01:24:45</td>\n",
       "      <td>0.0</td>\n",
       "      <td>0.0</td>\n",
       "      <td>0.006625</td>\n",
       "      <td>4</td>\n",
       "      <td>763.36</td>\n",
       "      <td>1</td>\n",
       "    </tr>\n",
       "    <tr>\n",
       "      <th>17</th>\n",
       "      <td>01/01/2000 01:25:00</td>\n",
       "      <td>0.0</td>\n",
       "      <td>0.0</td>\n",
       "      <td>0.006931</td>\n",
       "      <td>4</td>\n",
       "      <td>658.56</td>\n",
       "      <td>1</td>\n",
       "    </tr>\n",
       "    <tr>\n",
       "      <th>18</th>\n",
       "      <td>01/01/2000 01:25:15</td>\n",
       "      <td>0.0</td>\n",
       "      <td>0.0</td>\n",
       "      <td>0.006734</td>\n",
       "      <td>4</td>\n",
       "      <td>48.80</td>\n",
       "      <td>1</td>\n",
       "    </tr>\n",
       "    <tr>\n",
       "      <th>19</th>\n",
       "      <td>01/01/2000 01:25:30</td>\n",
       "      <td>0.0</td>\n",
       "      <td>0.0</td>\n",
       "      <td>0.006763</td>\n",
       "      <td>4</td>\n",
       "      <td>0.80</td>\n",
       "      <td>1</td>\n",
       "    </tr>\n",
       "    <tr>\n",
       "      <th>20</th>\n",
       "      <td>01/01/2000 01:25:45</td>\n",
       "      <td>0.0</td>\n",
       "      <td>0.0</td>\n",
       "      <td>0.008320</td>\n",
       "      <td>6</td>\n",
       "      <td>0.80</td>\n",
       "      <td>0</td>\n",
       "    </tr>\n",
       "    <tr>\n",
       "      <th>21</th>\n",
       "      <td>01/01/2000 01:26:00</td>\n",
       "      <td>0.0</td>\n",
       "      <td>0.0</td>\n",
       "      <td>0.008939</td>\n",
       "      <td>6</td>\n",
       "      <td>0.80</td>\n",
       "      <td>0</td>\n",
       "    </tr>\n",
       "    <tr>\n",
       "      <th>22</th>\n",
       "      <td>01/01/2000 01:26:15</td>\n",
       "      <td>0.0</td>\n",
       "      <td>0.0</td>\n",
       "      <td>0.006440</td>\n",
       "      <td>4</td>\n",
       "      <td>16.00</td>\n",
       "      <td>0</td>\n",
       "    </tr>\n",
       "    <tr>\n",
       "      <th>23</th>\n",
       "      <td>01/01/2000 01:26:30</td>\n",
       "      <td>0.0</td>\n",
       "      <td>0.0</td>\n",
       "      <td>0.006432</td>\n",
       "      <td>4</td>\n",
       "      <td>0.00</td>\n",
       "      <td>0</td>\n",
       "    </tr>\n",
       "    <tr>\n",
       "      <th>24</th>\n",
       "      <td>01/01/2000 01:26:45</td>\n",
       "      <td>0.0</td>\n",
       "      <td>0.0</td>\n",
       "      <td>0.006409</td>\n",
       "      <td>4</td>\n",
       "      <td>0.00</td>\n",
       "      <td>0</td>\n",
       "    </tr>\n",
       "    <tr>\n",
       "      <th>25</th>\n",
       "      <td>01/01/2000 01:27:00</td>\n",
       "      <td>0.0</td>\n",
       "      <td>0.0</td>\n",
       "      <td>0.006347</td>\n",
       "      <td>4</td>\n",
       "      <td>1.00</td>\n",
       "      <td>0</td>\n",
       "    </tr>\n",
       "    <tr>\n",
       "      <th>26</th>\n",
       "      <td>01/01/2000 01:27:15</td>\n",
       "      <td>0.0</td>\n",
       "      <td>0.0</td>\n",
       "      <td>0.006980</td>\n",
       "      <td>4</td>\n",
       "      <td>1.40</td>\n",
       "      <td>0</td>\n",
       "    </tr>\n",
       "    <tr>\n",
       "      <th>27</th>\n",
       "      <td>01/01/2000 01:27:30</td>\n",
       "      <td>0.0</td>\n",
       "      <td>0.0</td>\n",
       "      <td>0.006654</td>\n",
       "      <td>4</td>\n",
       "      <td>1.40</td>\n",
       "      <td>0</td>\n",
       "    </tr>\n",
       "    <tr>\n",
       "      <th>28</th>\n",
       "      <td>01/01/2000 01:27:45</td>\n",
       "      <td>0.0</td>\n",
       "      <td>0.0</td>\n",
       "      <td>0.006337</td>\n",
       "      <td>4</td>\n",
       "      <td>2.00</td>\n",
       "      <td>0</td>\n",
       "    </tr>\n",
       "    <tr>\n",
       "      <th>29</th>\n",
       "      <td>01/01/2000 01:28:00</td>\n",
       "      <td>0.0</td>\n",
       "      <td>0.0</td>\n",
       "      <td>0.006999</td>\n",
       "      <td>4</td>\n",
       "      <td>5.40</td>\n",
       "      <td>0</td>\n",
       "    </tr>\n",
       "    <tr>\n",
       "      <th>30</th>\n",
       "      <td>01/01/2000 01:28:15</td>\n",
       "      <td>0.0</td>\n",
       "      <td>0.0</td>\n",
       "      <td>0.007244</td>\n",
       "      <td>4</td>\n",
       "      <td>5.08</td>\n",
       "      <td>0</td>\n",
       "    </tr>\n",
       "    <tr>\n",
       "      <th>31</th>\n",
       "      <td>01/01/2000 01:28:30</td>\n",
       "      <td>0.0</td>\n",
       "      <td>0.0</td>\n",
       "      <td>0.006531</td>\n",
       "      <td>4</td>\n",
       "      <td>5.08</td>\n",
       "      <td>0</td>\n",
       "    </tr>\n",
       "    <tr>\n",
       "      <th>32</th>\n",
       "      <td>01/01/2000 01:28:45</td>\n",
       "      <td>0.0</td>\n",
       "      <td>0.0</td>\n",
       "      <td>0.006497</td>\n",
       "      <td>4</td>\n",
       "      <td>7.60</td>\n",
       "      <td>0</td>\n",
       "    </tr>\n",
       "    <tr>\n",
       "      <th>33</th>\n",
       "      <td>01/01/2000 01:29:00</td>\n",
       "      <td>5.0</td>\n",
       "      <td>0.0</td>\n",
       "      <td>0.010353</td>\n",
       "      <td>8</td>\n",
       "      <td>6.04</td>\n",
       "      <td>0</td>\n",
       "    </tr>\n",
       "    <tr>\n",
       "      <th>34</th>\n",
       "      <td>01/01/2000 01:29:15</td>\n",
       "      <td>2.0</td>\n",
       "      <td>0.0</td>\n",
       "      <td>0.007688</td>\n",
       "      <td>5</td>\n",
       "      <td>6.04</td>\n",
       "      <td>0</td>\n",
       "    </tr>\n",
       "    <tr>\n",
       "      <th>35</th>\n",
       "      <td>01/01/2000 01:29:30</td>\n",
       "      <td>0.0</td>\n",
       "      <td>0.0</td>\n",
       "      <td>0.006646</td>\n",
       "      <td>4</td>\n",
       "      <td>6.04</td>\n",
       "      <td>0</td>\n",
       "    </tr>\n",
       "    <tr>\n",
       "      <th>36</th>\n",
       "      <td>01/01/2000 01:29:45</td>\n",
       "      <td>3.0</td>\n",
       "      <td>0.0</td>\n",
       "      <td>0.008157</td>\n",
       "      <td>5</td>\n",
       "      <td>3.64</td>\n",
       "      <td>0</td>\n",
       "    </tr>\n",
       "    <tr>\n",
       "      <th>37</th>\n",
       "      <td>01/01/2000 01:30:00</td>\n",
       "      <td>21.0</td>\n",
       "      <td>1.0</td>\n",
       "      <td>0.015391</td>\n",
       "      <td>13</td>\n",
       "      <td>3.00</td>\n",
       "      <td>0</td>\n",
       "    </tr>\n",
       "    <tr>\n",
       "      <th>38</th>\n",
       "      <td>01/01/2000 01:30:15</td>\n",
       "      <td>0.0</td>\n",
       "      <td>0.0</td>\n",
       "      <td>0.006755</td>\n",
       "      <td>4</td>\n",
       "      <td>3.32</td>\n",
       "      <td>0</td>\n",
       "    </tr>\n",
       "    <tr>\n",
       "      <th>39</th>\n",
       "      <td>01/01/2000 01:30:30</td>\n",
       "      <td>0.0</td>\n",
       "      <td>0.0</td>\n",
       "      <td>0.007636</td>\n",
       "      <td>5</td>\n",
       "      <td>3.32</td>\n",
       "      <td>0</td>\n",
       "    </tr>\n",
       "  </tbody>\n",
       "</table>\n",
       "</div>"
      ],
      "text/plain": [
       "              timestamp  Actiwatch activity counts  Actiware classification  \\\n",
       "0   01/01/2000 01:20:45                        0.0                      1.0   \n",
       "1   01/01/2000 01:21:00                       24.0                      1.0   \n",
       "2   01/01/2000 01:21:15                        3.0                      1.0   \n",
       "3   01/01/2000 01:21:30                        0.0                      1.0   \n",
       "4   01/01/2000 01:21:45                        3.0                      1.0   \n",
       "5   01/01/2000 01:22:00                        0.0                      1.0   \n",
       "6   01/01/2000 01:22:15                        0.0                      1.0   \n",
       "7   01/01/2000 01:22:30                        0.0                      1.0   \n",
       "8   01/01/2000 01:22:45                      182.0                      1.0   \n",
       "9   01/01/2000 01:23:00                      164.0                      1.0   \n",
       "10  01/01/2000 01:23:15                       12.0                      1.0   \n",
       "11  01/01/2000 01:23:30                        0.0                      1.0   \n",
       "12  01/01/2000 01:23:45                        0.0                      1.0   \n",
       "13  01/01/2000 01:24:00                        0.0                      1.0   \n",
       "14  01/01/2000 01:24:15                        4.0                      0.0   \n",
       "15  01/01/2000 01:24:30                        0.0                      0.0   \n",
       "16  01/01/2000 01:24:45                        0.0                      0.0   \n",
       "17  01/01/2000 01:25:00                        0.0                      0.0   \n",
       "18  01/01/2000 01:25:15                        0.0                      0.0   \n",
       "19  01/01/2000 01:25:30                        0.0                      0.0   \n",
       "20  01/01/2000 01:25:45                        0.0                      0.0   \n",
       "21  01/01/2000 01:26:00                        0.0                      0.0   \n",
       "22  01/01/2000 01:26:15                        0.0                      0.0   \n",
       "23  01/01/2000 01:26:30                        0.0                      0.0   \n",
       "24  01/01/2000 01:26:45                        0.0                      0.0   \n",
       "25  01/01/2000 01:27:00                        0.0                      0.0   \n",
       "26  01/01/2000 01:27:15                        0.0                      0.0   \n",
       "27  01/01/2000 01:27:30                        0.0                      0.0   \n",
       "28  01/01/2000 01:27:45                        0.0                      0.0   \n",
       "29  01/01/2000 01:28:00                        0.0                      0.0   \n",
       "30  01/01/2000 01:28:15                        0.0                      0.0   \n",
       "31  01/01/2000 01:28:30                        0.0                      0.0   \n",
       "32  01/01/2000 01:28:45                        0.0                      0.0   \n",
       "33  01/01/2000 01:29:00                        5.0                      0.0   \n",
       "34  01/01/2000 01:29:15                        2.0                      0.0   \n",
       "35  01/01/2000 01:29:30                        0.0                      0.0   \n",
       "36  01/01/2000 01:29:45                        3.0                      0.0   \n",
       "37  01/01/2000 01:30:00                       21.0                      1.0   \n",
       "38  01/01/2000 01:30:15                        0.0                      0.0   \n",
       "39  01/01/2000 01:30:30                        0.0                      0.0   \n",
       "\n",
       "    Apple Watch ENMO  Apple active counts  Total Counts  Apple Classification  \n",
       "0           0.007234                    4        100.00                     1  \n",
       "1           0.030109                   32        100.00                     1  \n",
       "2           0.008785                    6        100.00                     1  \n",
       "3           0.007893                    5        100.00                     1  \n",
       "4           0.007761                    5        100.00                     1  \n",
       "5           0.006469                    4        100.00                     1  \n",
       "6           0.005791                    3        100.00                     1  \n",
       "7           0.017378                   16        100.00                     1  \n",
       "8           0.159258                  188        100.00                     1  \n",
       "9           0.088535                  111        100.00                     1  \n",
       "10          0.014816                   13        100.00                     1  \n",
       "11          0.006586                    4        100.00                     1  \n",
       "12          0.006270                    3        100.00                     1  \n",
       "13          0.006943                    4         69.84                     1  \n",
       "14          0.012221                   10         71.76                     1  \n",
       "15          0.006598                    4         71.76                     1  \n",
       "16          0.006625                    4        763.36                     1  \n",
       "17          0.006931                    4        658.56                     1  \n",
       "18          0.006734                    4         48.80                     1  \n",
       "19          0.006763                    4          0.80                     1  \n",
       "20          0.008320                    6          0.80                     0  \n",
       "21          0.008939                    6          0.80                     0  \n",
       "22          0.006440                    4         16.00                     0  \n",
       "23          0.006432                    4          0.00                     0  \n",
       "24          0.006409                    4          0.00                     0  \n",
       "25          0.006347                    4          1.00                     0  \n",
       "26          0.006980                    4          1.40                     0  \n",
       "27          0.006654                    4          1.40                     0  \n",
       "28          0.006337                    4          2.00                     0  \n",
       "29          0.006999                    4          5.40                     0  \n",
       "30          0.007244                    4          5.08                     0  \n",
       "31          0.006531                    4          5.08                     0  \n",
       "32          0.006497                    4          7.60                     0  \n",
       "33          0.010353                    8          6.04                     0  \n",
       "34          0.007688                    5          6.04                     0  \n",
       "35          0.006646                    4          6.04                     0  \n",
       "36          0.008157                    5          3.64                     0  \n",
       "37          0.015391                   13          3.00                     0  \n",
       "38          0.006755                    4          3.32                     0  \n",
       "39          0.007636                    5          3.32                     0  "
      ]
     },
     "execution_count": 59,
     "metadata": {},
     "output_type": "execute_result"
    }
   ],
   "source": [
    "new_data.head(40)"
   ]
  },
  {
   "cell_type": "code",
   "execution_count": 60,
   "id": "345b0cc6-cd79-493c-80ce-b525ba91f6e9",
   "metadata": {},
   "outputs": [],
   "source": [
    "# Set up parameters\n",
    "threshold = 20  # You can try different thresholds (e.g., 20 or 40)\n",
    "window_size = 15  # 15-second epoch\n",
    "\n",
    "# Reset the index of the DataFrame 'new_data'\n",
    "new_data.reset_index(drop=True, inplace=True)\n",
    "\n",
    "# Define the classification function\n",
    "def classify_epoch(total_counts, threshold):\n",
    "    if total_counts <= threshold:\n",
    "        return 0  # Sleep\n",
    "    else:\n",
    "        return 1  # Wake\n",
    "\n",
    "# Apply classification\n",
    "new_data['Apple Classification'] = new_data['Total Counts'].apply(lambda x: classify_epoch(x, threshold))"
   ]
  },
  {
   "cell_type": "code",
   "execution_count": 61,
   "id": "8f48b294-fa5c-4256-9fd5-572201249d58",
   "metadata": {},
   "outputs": [
    {
     "name": "stdout",
     "output_type": "stream",
     "text": [
      "Accuracy: 0.8702\n"
     ]
    }
   ],
   "source": [
    "# Evaluate the results using ground truth (Actiware classification)\n",
    "accuracy = (new_data['Apple Classification'] == new_data['Actiware classification']).mean()\n",
    "print(f'Accuracy: {accuracy:.4f}')\n",
    "\n",
    "# # Save the results to a new CSV file\n",
    "# new_data.to_csv('results.csv', index=False)"
   ]
  },
  {
   "cell_type": "code",
   "execution_count": 62,
   "id": "2ea9463c-2d39-4f3b-92ec-b1c560c51930",
   "metadata": {},
   "outputs": [
    {
     "name": "stdout",
     "output_type": "stream",
     "text": [
      "              precision    recall  f1-score   support\n",
      "\n",
      "         0.0       0.96      0.90      0.93     45023\n",
      "         1.0       0.31      0.51      0.39      3879\n",
      "\n",
      "    accuracy                           0.87     48902\n",
      "   macro avg       0.63      0.71      0.66     48902\n",
      "weighted avg       0.90      0.87      0.88     48902\n",
      "\n"
     ]
    },
    {
     "data": {
      "image/png": "[encoded data removed]",
      "text/plain": [
       "<Figure size 576x432 with 1 Axes>"
      ]
     },
     "metadata": {
      "needs_background": "light"
     },
     "output_type": "display_data"
    }
   ],
   "source": [
    "from sklearn.metrics import classification_report\n",
    "from sklearn.metrics import confusion_matrix\n",
    "import seaborn as sns\n",
    "\n",
    "report = classification_report(new_data['Actiware classification'], new_data['Apple Classification'])\n",
    "\n",
    "print(report)\n",
    "\n",
    "conf_matrix = confusion_matrix(new_data['Actiware classification'], new_data['Apple Classification'])\n",
    "\n",
    "# Create a heatmap for the confusion matrix\n",
    "plt.figure(figsize=(8, 6))\n",
    "sns.heatmap(conf_matrix, annot=True, fmt='d', cmap='Blues', cbar=False,\n",
    "            xticklabels=['Predicted Sleep', 'Predicted Wake'],\n",
    "            yticklabels=['Actual Sleep', 'Actual Wake'])\n",
    "plt.xlabel('Predicted')\n",
    "plt.ylabel('Actual')\n",
    "plt.title('Confusion Matrix')\n",
    "plt.show()"
   ]
  },
  {
   "cell_type": "code",
   "execution_count": 55,
   "id": "6b448cfc-477d-4b28-b7a0-418a59ab40f1",
   "metadata": {},
   "outputs": [
    {
     "data": {
      "text/plain": [
       "0    48862\n",
       "1       40\n",
       "Name: Apple Classification, dtype: int64"
      ]
     },
     "execution_count": 55,
     "metadata": {},
     "output_type": "execute_result"
    }
   ],
   "source": [
    "new_data['Apple Classification'].value_counts()"
   ]
  },
  {
   "cell_type": "code",
   "execution_count": null,
   "id": "071aad54-b3e4-40dc-b273-df97ecd5ddfd",
   "metadata": {},
   "outputs": [],
   "source": []
  }
 ],
 "metadata": {
  "kernelspec": {
   "display_name": "Python 3 (ipykernel)",
   "language": "python",
   "name": "python3"
  },
  "language_info": {
   "codemirror_mode": {
    "name": "ipython",
    "version": 3
   },
   "file_extension": ".py",
   "mimetype": "text/x-python",
   "name": "python",
   "nbconvert_exporter": "python",
   "pygments_lexer": "ipython3",
   "version": "3.9.12"
  }
 },
 "nbformat": 4,
 "nbformat_minor": 5
}
